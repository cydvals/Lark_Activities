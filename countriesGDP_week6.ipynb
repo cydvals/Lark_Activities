{
  "nbformat": 4,
  "nbformat_minor": 0,
  "metadata": {
    "colab": {
      "name": "countriesGDP_week6",
      "provenance": []
    },
    "kernelspec": {
      "name": "python3",
      "display_name": "Python 3"
    },
    "language_info": {
      "name": "python"
    }
  },
  "cells": [
    {
      "cell_type": "markdown",
      "source": [
        "## Loading the dataset in a python environment"
      ],
      "metadata": {
        "id": "_eWnYEDRUe-7"
      }
    },
    {
      "cell_type": "code",
      "execution_count": 312,
      "metadata": {
        "id": "PNinY-bvTy1E"
      },
      "outputs": [],
      "source": [
        "import pandas as pd"
      ]
    },
    {
      "cell_type": "code",
      "source": [
        "df = pd.read_excel(\"/content/Dataset_w6.xlsx\")"
      ],
      "metadata": {
        "id": "ppR04jy_VVuf"
      },
      "execution_count": 313,
      "outputs": []
    },
    {
      "cell_type": "code",
      "source": [
        "df.head(10)"
      ],
      "metadata": {
        "colab": {
          "base_uri": "https://localhost:8080/",
          "height": 441
        },
        "id": "2Lq8ysYaVbiK",
        "outputId": "128c8288-a6f2-442b-b14c-7d9b499ccb86"
      },
      "execution_count": 314,
      "outputs": [
        {
          "output_type": "execute_result",
          "data": {
            "text/plain": [
              "               country          Region  Surface area (km2)  \\\n",
              "0          Afghanistan    SouthernAsia            652864.0   \n",
              "1              Albania  SouthernEurope             28748.0   \n",
              "2              Algeria  NorthernAfrica           2381741.0   \n",
              "3               Angola    MiddleAfrica           1246700.0   \n",
              "4  Antigua and Barbuda       Caribbean               442.0   \n",
              "5            Argentina    SouthAmerica           2780400.0   \n",
              "6              Armenia     WesternAsia             29743.0   \n",
              "7            Australia         Oceania           7692060.0   \n",
              "8              Austria   WesternEurope             83871.0   \n",
              "9           Azerbaijan     WesternAsia             86600.0   \n",
              "\n",
              "   Population in thousands (2017)  GDP per capita (current US$)  \\\n",
              "0                         35530.0                         623.2   \n",
              "1                          2930.0                        3984.2   \n",
              "2                         41318.0                        4154.1   \n",
              "3                         29784.0                        4714.1   \n",
              "4                           102.0                       14764.5   \n",
              "5                         44271.0                       14564.5   \n",
              "6                          2930.0                        3489.1   \n",
              "7                         24451.0                       51352.2   \n",
              "8                          8736.0                       44117.7   \n",
              "9                          9828.0                        5438.7   \n",
              "\n",
              "   Agricultural production index   International trade: Imports (million US$)  \n",
              "0                           125.0                                      3568.0  \n",
              "1                           134.0                                      4669.0  \n",
              "2                           160.0                                     47091.0  \n",
              "3                           175.0                                      8790.0  \n",
              "4                            88.0                                       491.0  \n",
              "5                           119.0                                     55610.0  \n",
              "6                           135.0                                      3230.0  \n",
              "7                           111.0                                    189406.0  \n",
              "8                           108.0                                    149299.0  \n",
              "9                           131.0                                      8532.0  "
            ],
            "text/html": [
              "\n",
              "  <div id=\"df-d3999cb6-2513-480a-a8ec-9d1ed924da38\">\n",
              "    <div class=\"colab-df-container\">\n",
              "      <div>\n",
              "<style scoped>\n",
              "    .dataframe tbody tr th:only-of-type {\n",
              "        vertical-align: middle;\n",
              "    }\n",
              "\n",
              "    .dataframe tbody tr th {\n",
              "        vertical-align: top;\n",
              "    }\n",
              "\n",
              "    .dataframe thead th {\n",
              "        text-align: right;\n",
              "    }\n",
              "</style>\n",
              "<table border=\"1\" class=\"dataframe\">\n",
              "  <thead>\n",
              "    <tr style=\"text-align: right;\">\n",
              "      <th></th>\n",
              "      <th>country</th>\n",
              "      <th>Region</th>\n",
              "      <th>Surface area (km2)</th>\n",
              "      <th>Population in thousands (2017)</th>\n",
              "      <th>GDP per capita (current US$)</th>\n",
              "      <th>Agricultural production index</th>\n",
              "      <th>International trade: Imports (million US$)</th>\n",
              "    </tr>\n",
              "  </thead>\n",
              "  <tbody>\n",
              "    <tr>\n",
              "      <th>0</th>\n",
              "      <td>Afghanistan</td>\n",
              "      <td>SouthernAsia</td>\n",
              "      <td>652864.0</td>\n",
              "      <td>35530.0</td>\n",
              "      <td>623.2</td>\n",
              "      <td>125.0</td>\n",
              "      <td>3568.0</td>\n",
              "    </tr>\n",
              "    <tr>\n",
              "      <th>1</th>\n",
              "      <td>Albania</td>\n",
              "      <td>SouthernEurope</td>\n",
              "      <td>28748.0</td>\n",
              "      <td>2930.0</td>\n",
              "      <td>3984.2</td>\n",
              "      <td>134.0</td>\n",
              "      <td>4669.0</td>\n",
              "    </tr>\n",
              "    <tr>\n",
              "      <th>2</th>\n",
              "      <td>Algeria</td>\n",
              "      <td>NorthernAfrica</td>\n",
              "      <td>2381741.0</td>\n",
              "      <td>41318.0</td>\n",
              "      <td>4154.1</td>\n",
              "      <td>160.0</td>\n",
              "      <td>47091.0</td>\n",
              "    </tr>\n",
              "    <tr>\n",
              "      <th>3</th>\n",
              "      <td>Angola</td>\n",
              "      <td>MiddleAfrica</td>\n",
              "      <td>1246700.0</td>\n",
              "      <td>29784.0</td>\n",
              "      <td>4714.1</td>\n",
              "      <td>175.0</td>\n",
              "      <td>8790.0</td>\n",
              "    </tr>\n",
              "    <tr>\n",
              "      <th>4</th>\n",
              "      <td>Antigua and Barbuda</td>\n",
              "      <td>Caribbean</td>\n",
              "      <td>442.0</td>\n",
              "      <td>102.0</td>\n",
              "      <td>14764.5</td>\n",
              "      <td>88.0</td>\n",
              "      <td>491.0</td>\n",
              "    </tr>\n",
              "    <tr>\n",
              "      <th>5</th>\n",
              "      <td>Argentina</td>\n",
              "      <td>SouthAmerica</td>\n",
              "      <td>2780400.0</td>\n",
              "      <td>44271.0</td>\n",
              "      <td>14564.5</td>\n",
              "      <td>119.0</td>\n",
              "      <td>55610.0</td>\n",
              "    </tr>\n",
              "    <tr>\n",
              "      <th>6</th>\n",
              "      <td>Armenia</td>\n",
              "      <td>WesternAsia</td>\n",
              "      <td>29743.0</td>\n",
              "      <td>2930.0</td>\n",
              "      <td>3489.1</td>\n",
              "      <td>135.0</td>\n",
              "      <td>3230.0</td>\n",
              "    </tr>\n",
              "    <tr>\n",
              "      <th>7</th>\n",
              "      <td>Australia</td>\n",
              "      <td>Oceania</td>\n",
              "      <td>7692060.0</td>\n",
              "      <td>24451.0</td>\n",
              "      <td>51352.2</td>\n",
              "      <td>111.0</td>\n",
              "      <td>189406.0</td>\n",
              "    </tr>\n",
              "    <tr>\n",
              "      <th>8</th>\n",
              "      <td>Austria</td>\n",
              "      <td>WesternEurope</td>\n",
              "      <td>83871.0</td>\n",
              "      <td>8736.0</td>\n",
              "      <td>44117.7</td>\n",
              "      <td>108.0</td>\n",
              "      <td>149299.0</td>\n",
              "    </tr>\n",
              "    <tr>\n",
              "      <th>9</th>\n",
              "      <td>Azerbaijan</td>\n",
              "      <td>WesternAsia</td>\n",
              "      <td>86600.0</td>\n",
              "      <td>9828.0</td>\n",
              "      <td>5438.7</td>\n",
              "      <td>131.0</td>\n",
              "      <td>8532.0</td>\n",
              "    </tr>\n",
              "  </tbody>\n",
              "</table>\n",
              "</div>\n",
              "      <button class=\"colab-df-convert\" onclick=\"convertToInteractive('df-d3999cb6-2513-480a-a8ec-9d1ed924da38')\"\n",
              "              title=\"Convert this dataframe to an interactive table.\"\n",
              "              style=\"display:none;\">\n",
              "        \n",
              "  <svg xmlns=\"http://www.w3.org/2000/svg\" height=\"24px\"viewBox=\"0 0 24 24\"\n",
              "       width=\"24px\">\n",
              "    <path d=\"M0 0h24v24H0V0z\" fill=\"none\"/>\n",
              "    <path d=\"M18.56 5.44l.94 2.06.94-2.06 2.06-.94-2.06-.94-.94-2.06-.94 2.06-2.06.94zm-11 1L8.5 8.5l.94-2.06 2.06-.94-2.06-.94L8.5 2.5l-.94 2.06-2.06.94zm10 10l.94 2.06.94-2.06 2.06-.94-2.06-.94-.94-2.06-.94 2.06-2.06.94z\"/><path d=\"M17.41 7.96l-1.37-1.37c-.4-.4-.92-.59-1.43-.59-.52 0-1.04.2-1.43.59L10.3 9.45l-7.72 7.72c-.78.78-.78 2.05 0 2.83L4 21.41c.39.39.9.59 1.41.59.51 0 1.02-.2 1.41-.59l7.78-7.78 2.81-2.81c.8-.78.8-2.07 0-2.86zM5.41 20L4 18.59l7.72-7.72 1.47 1.35L5.41 20z\"/>\n",
              "  </svg>\n",
              "      </button>\n",
              "      \n",
              "  <style>\n",
              "    .colab-df-container {\n",
              "      display:flex;\n",
              "      flex-wrap:wrap;\n",
              "      gap: 12px;\n",
              "    }\n",
              "\n",
              "    .colab-df-convert {\n",
              "      background-color: #E8F0FE;\n",
              "      border: none;\n",
              "      border-radius: 50%;\n",
              "      cursor: pointer;\n",
              "      display: none;\n",
              "      fill: #1967D2;\n",
              "      height: 32px;\n",
              "      padding: 0 0 0 0;\n",
              "      width: 32px;\n",
              "    }\n",
              "\n",
              "    .colab-df-convert:hover {\n",
              "      background-color: #E2EBFA;\n",
              "      box-shadow: 0px 1px 2px rgba(60, 64, 67, 0.3), 0px 1px 3px 1px rgba(60, 64, 67, 0.15);\n",
              "      fill: #174EA6;\n",
              "    }\n",
              "\n",
              "    [theme=dark] .colab-df-convert {\n",
              "      background-color: #3B4455;\n",
              "      fill: #D2E3FC;\n",
              "    }\n",
              "\n",
              "    [theme=dark] .colab-df-convert:hover {\n",
              "      background-color: #434B5C;\n",
              "      box-shadow: 0px 1px 3px 1px rgba(0, 0, 0, 0.15);\n",
              "      filter: drop-shadow(0px 1px 2px rgba(0, 0, 0, 0.3));\n",
              "      fill: #FFFFFF;\n",
              "    }\n",
              "  </style>\n",
              "\n",
              "      <script>\n",
              "        const buttonEl =\n",
              "          document.querySelector('#df-d3999cb6-2513-480a-a8ec-9d1ed924da38 button.colab-df-convert');\n",
              "        buttonEl.style.display =\n",
              "          google.colab.kernel.accessAllowed ? 'block' : 'none';\n",
              "\n",
              "        async function convertToInteractive(key) {\n",
              "          const element = document.querySelector('#df-d3999cb6-2513-480a-a8ec-9d1ed924da38');\n",
              "          const dataTable =\n",
              "            await google.colab.kernel.invokeFunction('convertToInteractive',\n",
              "                                                     [key], {});\n",
              "          if (!dataTable) return;\n",
              "\n",
              "          const docLinkHtml = 'Like what you see? Visit the ' +\n",
              "            '<a target=\"_blank\" href=https://colab.research.google.com/notebooks/data_table.ipynb>data table notebook</a>'\n",
              "            + ' to learn more about interactive tables.';\n",
              "          element.innerHTML = '';\n",
              "          dataTable['output_type'] = 'display_data';\n",
              "          await google.colab.output.renderOutput(dataTable, element);\n",
              "          const docLink = document.createElement('div');\n",
              "          docLink.innerHTML = docLinkHtml;\n",
              "          element.appendChild(docLink);\n",
              "        }\n",
              "      </script>\n",
              "    </div>\n",
              "  </div>\n",
              "  "
            ]
          },
          "metadata": {},
          "execution_count": 314
        }
      ]
    },
    {
      "cell_type": "code",
      "source": [
        "df.info()"
      ],
      "metadata": {
        "colab": {
          "base_uri": "https://localhost:8080/"
        },
        "id": "r7TEOIGmWppV",
        "outputId": "a8106e5f-3138-48d6-c9bc-1a7087384c91"
      },
      "execution_count": 315,
      "outputs": [
        {
          "output_type": "stream",
          "name": "stdout",
          "text": [
            "<class 'pandas.core.frame.DataFrame'>\n",
            "RangeIndex: 196 entries, 0 to 195\n",
            "Data columns (total 7 columns):\n",
            " #   Column                                      Non-Null Count  Dtype  \n",
            "---  ------                                      --------------  -----  \n",
            " 0   country                                     196 non-null    object \n",
            " 1   Region                                      196 non-null    object \n",
            " 2   Surface area (km2)                          196 non-null    float64\n",
            " 3   Population in thousands (2017)              196 non-null    float64\n",
            " 4   GDP per capita (current US$)                196 non-null    float64\n",
            " 5   Agricultural production index               196 non-null    float64\n",
            " 6   International trade: Imports (million US$)  196 non-null    float64\n",
            "dtypes: float64(5), object(2)\n",
            "memory usage: 10.8+ KB\n"
          ]
        }
      ]
    },
    {
      "cell_type": "markdown",
      "source": [
        "## 1. Finding out how many countries are present in the dataset"
      ],
      "metadata": {
        "id": "8K5UDGZXVxvc"
      }
    },
    {
      "cell_type": "code",
      "source": [
        "df['country'].value_counts()"
      ],
      "metadata": {
        "colab": {
          "base_uri": "https://localhost:8080/"
        },
        "id": "f4y3oPuDVl9i",
        "outputId": "232918b4-c50f-4631-a978-a4c1825963df"
      },
      "execution_count": 316,
      "outputs": [
        {
          "output_type": "execute_result",
          "data": {
            "text/plain": [
              "Afghanistan      1\n",
              "Nepal            1\n",
              "New Caledonia    1\n",
              "New Zealand      1\n",
              "Nicaragua        1\n",
              "                ..\n",
              "Gambia           1\n",
              "Georgia          1\n",
              "Germany          1\n",
              "Ghana            1\n",
              "Zimbabwe         1\n",
              "Name: country, Length: 196, dtype: int64"
            ]
          },
          "metadata": {},
          "execution_count": 316
        }
      ]
    },
    {
      "cell_type": "code",
      "source": [
        "# There are 196 countries present in the dataset"
      ],
      "metadata": {
        "id": "sg7LRVGEWb7T"
      },
      "execution_count": 317,
      "outputs": []
    },
    {
      "cell_type": "markdown",
      "source": [
        "## 2. Examine the data using visualizations"
      ],
      "metadata": {
        "id": "YQmvINPTW3f9"
      }
    },
    {
      "cell_type": "code",
      "source": [
        "import pandas as pd \n",
        "import numpy as np\n",
        "import matplotlib.pyplot as plt\n",
        "import seaborn as sns"
      ],
      "metadata": {
        "id": "oy201cMPW8Zj"
      },
      "execution_count": 318,
      "outputs": []
    },
    {
      "cell_type": "code",
      "source": [
        "biggest10 = df.nlargest(n=10, columns=['Surface area (km2)'])\n",
        "biggest10"
      ],
      "metadata": {
        "colab": {
          "base_uri": "https://localhost:8080/",
          "height": 459
        },
        "id": "iYID2G_lXQtN",
        "outputId": "d823f016-5169-4162-8091-eab650c7a4c1"
      },
      "execution_count": 319,
      "outputs": [
        {
          "output_type": "execute_result",
          "data": {
            "text/plain": [
              "                      country           Region  Surface area (km2)  \\\n",
              "145        Russian Federation    EasternEurope          17098246.0   \n",
              "32                     Canada  NorthernAmerica           9984670.0   \n",
              "187  United States of America  NorthernAmerica           9833517.0   \n",
              "39                      China      EasternAsia           9600000.0   \n",
              "23                     Brazil     SouthAmerica           8515767.0   \n",
              "7                   Australia          Oceania           7692060.0   \n",
              "82                      India     SouthernAsia           3287263.0   \n",
              "5                   Argentina     SouthAmerica           2780400.0   \n",
              "92                 Kazakhstan      CentralAsia           2724902.0   \n",
              "2                     Algeria   NorthernAfrica           2381741.0   \n",
              "\n",
              "     Population in thousands (2017)  GDP per capita (current US$)  \\\n",
              "145                        143990.0                        9243.3   \n",
              "32                          36624.0                       43205.6   \n",
              "187                        324460.0                       56053.8   \n",
              "39                        1409517.0                        8109.1   \n",
              "23                         209288.0                        8528.3   \n",
              "7                           24451.0                       51352.2   \n",
              "82                        1339180.0                        1614.2   \n",
              "5                           44271.0                       14564.5   \n",
              "92                          18204.0                       10312.1   \n",
              "2                           41318.0                        4154.1   \n",
              "\n",
              "     Agricultural production index   \\\n",
              "145                           120.0   \n",
              "32                            109.0   \n",
              "187                           111.0   \n",
              "39                            132.0   \n",
              "23                            135.0   \n",
              "7                             111.0   \n",
              "82                            143.0   \n",
              "5                             119.0   \n",
              "92                            126.0   \n",
              "2                             160.0   \n",
              "\n",
              "     International trade: Imports (million US$)  \n",
              "145                                    182257.0  \n",
              "32                                     402954.0  \n",
              "187                                   2249661.0  \n",
              "39                                    1588696.0  \n",
              "23                                     137552.0  \n",
              "7                                      189406.0  \n",
              "82                                     356705.0  \n",
              "5                                       55610.0  \n",
              "92                                      25175.0  \n",
              "2                                       47091.0  "
            ],
            "text/html": [
              "\n",
              "  <div id=\"df-8db18c63-57fd-45cc-a66e-0501b42ce573\">\n",
              "    <div class=\"colab-df-container\">\n",
              "      <div>\n",
              "<style scoped>\n",
              "    .dataframe tbody tr th:only-of-type {\n",
              "        vertical-align: middle;\n",
              "    }\n",
              "\n",
              "    .dataframe tbody tr th {\n",
              "        vertical-align: top;\n",
              "    }\n",
              "\n",
              "    .dataframe thead th {\n",
              "        text-align: right;\n",
              "    }\n",
              "</style>\n",
              "<table border=\"1\" class=\"dataframe\">\n",
              "  <thead>\n",
              "    <tr style=\"text-align: right;\">\n",
              "      <th></th>\n",
              "      <th>country</th>\n",
              "      <th>Region</th>\n",
              "      <th>Surface area (km2)</th>\n",
              "      <th>Population in thousands (2017)</th>\n",
              "      <th>GDP per capita (current US$)</th>\n",
              "      <th>Agricultural production index</th>\n",
              "      <th>International trade: Imports (million US$)</th>\n",
              "    </tr>\n",
              "  </thead>\n",
              "  <tbody>\n",
              "    <tr>\n",
              "      <th>145</th>\n",
              "      <td>Russian Federation</td>\n",
              "      <td>EasternEurope</td>\n",
              "      <td>17098246.0</td>\n",
              "      <td>143990.0</td>\n",
              "      <td>9243.3</td>\n",
              "      <td>120.0</td>\n",
              "      <td>182257.0</td>\n",
              "    </tr>\n",
              "    <tr>\n",
              "      <th>32</th>\n",
              "      <td>Canada</td>\n",
              "      <td>NorthernAmerica</td>\n",
              "      <td>9984670.0</td>\n",
              "      <td>36624.0</td>\n",
              "      <td>43205.6</td>\n",
              "      <td>109.0</td>\n",
              "      <td>402954.0</td>\n",
              "    </tr>\n",
              "    <tr>\n",
              "      <th>187</th>\n",
              "      <td>United States of America</td>\n",
              "      <td>NorthernAmerica</td>\n",
              "      <td>9833517.0</td>\n",
              "      <td>324460.0</td>\n",
              "      <td>56053.8</td>\n",
              "      <td>111.0</td>\n",
              "      <td>2249661.0</td>\n",
              "    </tr>\n",
              "    <tr>\n",
              "      <th>39</th>\n",
              "      <td>China</td>\n",
              "      <td>EasternAsia</td>\n",
              "      <td>9600000.0</td>\n",
              "      <td>1409517.0</td>\n",
              "      <td>8109.1</td>\n",
              "      <td>132.0</td>\n",
              "      <td>1588696.0</td>\n",
              "    </tr>\n",
              "    <tr>\n",
              "      <th>23</th>\n",
              "      <td>Brazil</td>\n",
              "      <td>SouthAmerica</td>\n",
              "      <td>8515767.0</td>\n",
              "      <td>209288.0</td>\n",
              "      <td>8528.3</td>\n",
              "      <td>135.0</td>\n",
              "      <td>137552.0</td>\n",
              "    </tr>\n",
              "    <tr>\n",
              "      <th>7</th>\n",
              "      <td>Australia</td>\n",
              "      <td>Oceania</td>\n",
              "      <td>7692060.0</td>\n",
              "      <td>24451.0</td>\n",
              "      <td>51352.2</td>\n",
              "      <td>111.0</td>\n",
              "      <td>189406.0</td>\n",
              "    </tr>\n",
              "    <tr>\n",
              "      <th>82</th>\n",
              "      <td>India</td>\n",
              "      <td>SouthernAsia</td>\n",
              "      <td>3287263.0</td>\n",
              "      <td>1339180.0</td>\n",
              "      <td>1614.2</td>\n",
              "      <td>143.0</td>\n",
              "      <td>356705.0</td>\n",
              "    </tr>\n",
              "    <tr>\n",
              "      <th>5</th>\n",
              "      <td>Argentina</td>\n",
              "      <td>SouthAmerica</td>\n",
              "      <td>2780400.0</td>\n",
              "      <td>44271.0</td>\n",
              "      <td>14564.5</td>\n",
              "      <td>119.0</td>\n",
              "      <td>55610.0</td>\n",
              "    </tr>\n",
              "    <tr>\n",
              "      <th>92</th>\n",
              "      <td>Kazakhstan</td>\n",
              "      <td>CentralAsia</td>\n",
              "      <td>2724902.0</td>\n",
              "      <td>18204.0</td>\n",
              "      <td>10312.1</td>\n",
              "      <td>126.0</td>\n",
              "      <td>25175.0</td>\n",
              "    </tr>\n",
              "    <tr>\n",
              "      <th>2</th>\n",
              "      <td>Algeria</td>\n",
              "      <td>NorthernAfrica</td>\n",
              "      <td>2381741.0</td>\n",
              "      <td>41318.0</td>\n",
              "      <td>4154.1</td>\n",
              "      <td>160.0</td>\n",
              "      <td>47091.0</td>\n",
              "    </tr>\n",
              "  </tbody>\n",
              "</table>\n",
              "</div>\n",
              "      <button class=\"colab-df-convert\" onclick=\"convertToInteractive('df-8db18c63-57fd-45cc-a66e-0501b42ce573')\"\n",
              "              title=\"Convert this dataframe to an interactive table.\"\n",
              "              style=\"display:none;\">\n",
              "        \n",
              "  <svg xmlns=\"http://www.w3.org/2000/svg\" height=\"24px\"viewBox=\"0 0 24 24\"\n",
              "       width=\"24px\">\n",
              "    <path d=\"M0 0h24v24H0V0z\" fill=\"none\"/>\n",
              "    <path d=\"M18.56 5.44l.94 2.06.94-2.06 2.06-.94-2.06-.94-.94-2.06-.94 2.06-2.06.94zm-11 1L8.5 8.5l.94-2.06 2.06-.94-2.06-.94L8.5 2.5l-.94 2.06-2.06.94zm10 10l.94 2.06.94-2.06 2.06-.94-2.06-.94-.94-2.06-.94 2.06-2.06.94z\"/><path d=\"M17.41 7.96l-1.37-1.37c-.4-.4-.92-.59-1.43-.59-.52 0-1.04.2-1.43.59L10.3 9.45l-7.72 7.72c-.78.78-.78 2.05 0 2.83L4 21.41c.39.39.9.59 1.41.59.51 0 1.02-.2 1.41-.59l7.78-7.78 2.81-2.81c.8-.78.8-2.07 0-2.86zM5.41 20L4 18.59l7.72-7.72 1.47 1.35L5.41 20z\"/>\n",
              "  </svg>\n",
              "      </button>\n",
              "      \n",
              "  <style>\n",
              "    .colab-df-container {\n",
              "      display:flex;\n",
              "      flex-wrap:wrap;\n",
              "      gap: 12px;\n",
              "    }\n",
              "\n",
              "    .colab-df-convert {\n",
              "      background-color: #E8F0FE;\n",
              "      border: none;\n",
              "      border-radius: 50%;\n",
              "      cursor: pointer;\n",
              "      display: none;\n",
              "      fill: #1967D2;\n",
              "      height: 32px;\n",
              "      padding: 0 0 0 0;\n",
              "      width: 32px;\n",
              "    }\n",
              "\n",
              "    .colab-df-convert:hover {\n",
              "      background-color: #E2EBFA;\n",
              "      box-shadow: 0px 1px 2px rgba(60, 64, 67, 0.3), 0px 1px 3px 1px rgba(60, 64, 67, 0.15);\n",
              "      fill: #174EA6;\n",
              "    }\n",
              "\n",
              "    [theme=dark] .colab-df-convert {\n",
              "      background-color: #3B4455;\n",
              "      fill: #D2E3FC;\n",
              "    }\n",
              "\n",
              "    [theme=dark] .colab-df-convert:hover {\n",
              "      background-color: #434B5C;\n",
              "      box-shadow: 0px 1px 3px 1px rgba(0, 0, 0, 0.15);\n",
              "      filter: drop-shadow(0px 1px 2px rgba(0, 0, 0, 0.3));\n",
              "      fill: #FFFFFF;\n",
              "    }\n",
              "  </style>\n",
              "\n",
              "      <script>\n",
              "        const buttonEl =\n",
              "          document.querySelector('#df-8db18c63-57fd-45cc-a66e-0501b42ce573 button.colab-df-convert');\n",
              "        buttonEl.style.display =\n",
              "          google.colab.kernel.accessAllowed ? 'block' : 'none';\n",
              "\n",
              "        async function convertToInteractive(key) {\n",
              "          const element = document.querySelector('#df-8db18c63-57fd-45cc-a66e-0501b42ce573');\n",
              "          const dataTable =\n",
              "            await google.colab.kernel.invokeFunction('convertToInteractive',\n",
              "                                                     [key], {});\n",
              "          if (!dataTable) return;\n",
              "\n",
              "          const docLinkHtml = 'Like what you see? Visit the ' +\n",
              "            '<a target=\"_blank\" href=https://colab.research.google.com/notebooks/data_table.ipynb>data table notebook</a>'\n",
              "            + ' to learn more about interactive tables.';\n",
              "          element.innerHTML = '';\n",
              "          dataTable['output_type'] = 'display_data';\n",
              "          await google.colab.output.renderOutput(dataTable, element);\n",
              "          const docLink = document.createElement('div');\n",
              "          docLink.innerHTML = docLinkHtml;\n",
              "          element.appendChild(docLink);\n",
              "        }\n",
              "      </script>\n",
              "    </div>\n",
              "  </div>\n",
              "  "
            ]
          },
          "metadata": {},
          "execution_count": 319
        }
      ]
    },
    {
      "cell_type": "code",
      "source": [
        "biggest10.plot(x=\"country\", y=[\"Surface area (km2)\"], kind=\"bar\",width = 0.8, rot=90, fontsize=10,figsize=(7,5))\n",
        "plt.xlabel('Country')\n",
        "plt.ylabel('Suraface area (in 10000000 km2)')\n",
        "plt.grid()\n",
        "plt.title('Top 10 Countries Based On Surface Area')"
      ],
      "metadata": {
        "colab": {
          "base_uri": "https://localhost:8080/",
          "height": 487
        },
        "id": "K96ids04iGEu",
        "outputId": "5a7903d6-dd56-41bd-b095-dd2c134d2130"
      },
      "execution_count": 320,
      "outputs": [
        {
          "output_type": "execute_result",
          "data": {
            "text/plain": [
              "Text(0.5, 1.0, 'Top 10 Countries Based On Surface Area')"
            ]
          },
          "metadata": {},
          "execution_count": 320
        },
        {
          "output_type": "display_data",
          "data": {
            "text/plain": [
              "<Figure size 504x360 with 1 Axes>"
            ],
            "image/png": "[encoded data removed]"
          },
          "metadata": {
            "needs_background": "light"
          }
        }
      ]
    },
    {
      "cell_type": "code",
      "source": [
        "df2 = pd.DataFrame(df, columns =['Surface area (km2)', 'Population in thousands (2017)','International trade: Imports (million US$)','GDP per capita (current US$)'])\n",
        "  \n",
        "corr = df2.corr()\n",
        "sns.heatmap(corr, annot = True)"
      ],
      "metadata": {
        "colab": {
          "base_uri": "https://localhost:8080/",
          "height": 481
        },
        "id": "_ZN-5fuq8J9Y",
        "outputId": "f076a68b-72aa-4ddf-b409-28bb6353b8eb"
      },
      "execution_count": 321,
      "outputs": [
        {
          "output_type": "execute_result",
          "data": {
            "text/plain": [
              "<matplotlib.axes._subplots.AxesSubplot at 0x7f605d655090>"
            ]
          },
          "metadata": {},
          "execution_count": 321
        },
        {
          "output_type": "display_data",
          "data": {
            "text/plain": [
              "<Figure size 432x288 with 2 Axes>"
            ],
            "image/png": "[encoded data removed]"
          },
          "metadata": {
            "needs_background": "light"
          }
        }
      ]
    },
    {
      "cell_type": "markdown",
      "source": [
        "**It can be noted that Internation Trade and Population are moderately correlated**"
      ],
      "metadata": {
        "id": "IBQwSAekCaLI"
      }
    },
    {
      "cell_type": "code",
      "source": [
        "#The below code will create two plots.\n",
        "plt.subplot(2,1,1)\n",
        "sns.barplot(data=df.sort_values('GDP per capita (current US$)',ascending=False).head(10),x='country',y='GDP per capita (current US$)',palette='Set2')\n",
        "plt.title('Top 10 Countries - GDP Per Capita')\n",
        "plt.ylabel('GDP per capita (current US$)')\n",
        "plt.xticks(rotation=90)\n",
        "plt.grid()\n",
        "plt.show()\n",
        "#The below code will create the second plot.\n",
        "plt.subplot(2,1,2)\n",
        "sns.barplot(data=df.sort_values('Population in thousands (2017)',ascending=False).head(10),x='country',y='Population in thousands (2017)', palette='Set2')\n",
        "plt.title('Top 10 Countries - Population (2017)')\n",
        "plt.ylabel('Poulation(in thousand)')\n",
        "plt.xticks(rotation=90)\n",
        "plt.grid()\n",
        "plt.show()\n",
        "\n",
        "\n"
      ],
      "metadata": {
        "colab": {
          "base_uri": "https://localhost:8080/",
          "height": 572
        },
        "id": "PCTABR3dHcPC",
        "outputId": "25ddb712-aa5c-41f7-f174-0cc0af384fea"
      },
      "execution_count": 322,
      "outputs": [
        {
          "output_type": "display_data",
          "data": {
            "text/plain": [
              "<Figure size 432x288 with 1 Axes>"
            ],
            "image/png": "[encoded data removed]"
          },
          "metadata": {
            "needs_background": "light"
          }
        },
        {
          "output_type": "display_data",
          "data": {
            "text/plain": [
              "<Figure size 432x288 with 1 Axes>"
            ],
            "image/png": "[encoded data removed]"
          },
          "metadata": {
            "needs_background": "light"
          }
        }
      ]
    },
    {
      "cell_type": "code",
      "source": [
        "plt.subplot(2,1,1)\n",
        "sns.barplot(data=df.sort_values('Agricultural production index ',ascending=False).head(10),x='country',y='Agricultural production index ', palette='Set2')\n",
        "plt.title('Top 10 Countries - Agricultural Production Index')\n",
        "plt.xticks(rotation=90)\n",
        "plt.grid()\n",
        "plt.show()\n",
        "plt.subplot(2,1,2)\n",
        "sns.barplot(data=df.sort_values('International trade: Imports (million US$)',ascending=False).head(10),x='country',y='International trade: Imports (million US$)', palette='Set2')\n",
        "plt.title('Top 10 Countries - International Trade: Imports')\n",
        "plt.ylabel('(in million US$)')\n",
        "plt.xticks(rotation=90)\n",
        "plt.grid()\n",
        "plt.show()"
      ],
      "metadata": {
        "colab": {
          "base_uri": "https://localhost:8080/",
          "height": 617
        },
        "id": "ml5IdKElCUv1",
        "outputId": "679b9662-4591-41f4-fcb3-78d340a9ccfd"
      },
      "execution_count": 323,
      "outputs": [
        {
          "output_type": "display_data",
          "data": {
            "text/plain": [
              "<Figure size 432x288 with 1 Axes>"
            ],
            "image/png": "[encoded data removed]"
          },
          "metadata": {
            "needs_background": "light"
          }
        },
        {
          "output_type": "display_data",
          "data": {
            "text/plain": [
              "<Figure size 432x288 with 1 Axes>"
            ],
            "image/png": "[encoded data removed]"
          },
          "metadata": {
            "needs_background": "light"
          }
        }
      ]
    },
    {
      "cell_type": "markdown",
      "source": [
        "## 3. Finding out how many countries with respect to the region are available in the dataset"
      ],
      "metadata": {
        "id": "QypR716WjYVn"
      }
    },
    {
      "cell_type": "code",
      "source": [
        "df2 = df['Region'].value_counts()"
      ],
      "metadata": {
        "id": "YZRFEhOlkVAf"
      },
      "execution_count": 324,
      "outputs": []
    },
    {
      "cell_type": "code",
      "source": [
        "sns.countplot(df['Region'])\n",
        "plt.xticks(rotation=90)\n",
        "plt.grid()"
      ],
      "metadata": {
        "colab": {
          "base_uri": "https://localhost:8080/",
          "height": 459
        },
        "id": "K3p0uqV2kXv5",
        "outputId": "8ab6c5e1-ff64-4083-94c2-eef1a0e730b4"
      },
      "execution_count": 325,
      "outputs": [
        {
          "output_type": "stream",
          "name": "stderr",
          "text": [
            "/usr/local/lib/python3.7/dist-packages/seaborn/_decorators.py:43: FutureWarning:\n",
            "\n",
            "Pass the following variable as a keyword arg: x. From version 0.12, the only valid positional argument will be `data`, and passing other arguments without an explicit keyword will result in an error or misinterpretation.\n",
            "\n"
          ]
        },
        {
          "output_type": "display_data",
          "data": {
            "text/plain": [
              "<Figure size 432x288 with 1 Axes>"
            ],
            "image/png": "[encoded data removed]"
          },
          "metadata": {
            "needs_background": "light"
          }
        }
      ]
    },
    {
      "cell_type": "markdown",
      "source": [
        "## 4. On average which region has the highest:\n",
        "a. GDP per capita (current US$) \n",
        "b. International trade: Imports (in USD)"
      ],
      "metadata": {
        "id": "ZC9xasEWoNn3"
      }
    },
    {
      "cell_type": "code",
      "source": [
        "df3 = df.groupby(['Region']).mean()\n",
        "df3"
      ],
      "metadata": {
        "colab": {
          "base_uri": "https://localhost:8080/",
          "height": 849
        },
        "id": "2O3sm4W7lFYd",
        "outputId": "93503935-b980-4111-80b0-6a416cc1dad8"
      },
      "execution_count": 326,
      "outputs": [
        {
          "output_type": "execute_result",
          "data": {
            "text/plain": [
              "                   Surface area (km2)  Population in thousands (2017)  \\\n",
              "Region                                                                  \n",
              "Caribbean                1.375231e+04                     2431.187500   \n",
              "CentralAmerica           3.108195e+05                    22164.750000   \n",
              "CentralAsia              8.009040e+05                    14167.800000   \n",
              "EasternAfrica            3.747603e+05                    24019.411765   \n",
              "EasternAsia              1.680572e+06                   232076.857143   \n",
              "EasternEurope            1.882619e+06                    29245.500000   \n",
              "Melanesia                1.081544e+05                     2064.000000   \n",
              "Micronesia               5.170000e+02                       74.250000   \n",
              "MiddleAfrica             7.347640e+05                    18166.111111   \n",
              "NorthernAfrica           1.134020e+06                    38503.600000   \n",
              "NorthernAmerica          5.496082e+06                    90300.250000   \n",
              "NorthernEurope           1.796507e+05                    10390.200000   \n",
              "Oceania                  3.980084e+06                    14578.500000   \n",
              "Polynesia                1.570200e+03                      123.000000   \n",
              "South-easternAsia        4.091960e+05                    58980.000000   \n",
              "SouthAmerica             1.475521e+06                    35342.416667   \n",
              "SouthernAfrica           5.349742e+05                    13028.600000   \n",
              "SouthernAsia             7.515586e+05                   207665.000000   \n",
              "SouthernEurope           1.097802e+05                    12653.666667   \n",
              "WesternAfrica            3.881602e+05                    23179.400000   \n",
              "WesternAsia              2.713849e+05                    14869.944444   \n",
              "WesternEurope            1.583849e+05                    27622.142857   \n",
              "\n",
              "                   GDP per capita (current US$)  \\\n",
              "Region                                            \n",
              "Caribbean                          15135.562500   \n",
              "CentralAmerica                      6348.137500   \n",
              "CentralAsia                         4329.880000   \n",
              "EasternAfrica                       2088.852941   \n",
              "EasternAsia                        27967.614286   \n",
              "EasternEurope                       9292.490000   \n",
              "Melanesia                           9261.960000   \n",
              "Micronesia                          5008.300000   \n",
              "MiddleAfrica                        3928.833333   \n",
              "NorthernAfrica                      3934.960000   \n",
              "NorthernAmerica                    57659.000000   \n",
              "NorthernEurope                     42098.220000   \n",
              "Oceania                            44823.250000   \n",
              "Polynesia                           8686.520000   \n",
              "South-easternAsia                  10299.027273   \n",
              "SouthAmerica                        8499.775000   \n",
              "SouthernAfrica                      4191.900000   \n",
              "SouthernAsia                        2968.400000   \n",
              "SouthernEurope                     14462.741667   \n",
              "WesternAfrica                       1013.140000   \n",
              "WesternAsia                        17013.938889   \n",
              "WesternEurope                      55387.128571   \n",
              "\n",
              "                   Agricultural production index   \\\n",
              "Region                                              \n",
              "Caribbean                              103.125000   \n",
              "CentralAmerica                         122.750000   \n",
              "CentralAsia                            130.000000   \n",
              "EasternAfrica                          126.235294   \n",
              "EasternAsia                            100.428571   \n",
              "EasternEurope                          111.600000   \n",
              "Melanesia                              103.000000   \n",
              "Micronesia                              93.500000   \n",
              "MiddleAfrica                           125.888889   \n",
              "NorthernAfrica                         126.200000   \n",
              "NorthernAmerica                        108.500000   \n",
              "NorthernEurope                         112.700000   \n",
              "Oceania                                113.500000   \n",
              "Polynesia                              108.000000   \n",
              "South-easternAsia                      138.727273   \n",
              "SouthAmerica                           132.083333   \n",
              "SouthernAfrica                         107.600000   \n",
              "SouthernAsia                           119.111111   \n",
              "SouthernEurope                          97.166667   \n",
              "WesternAfrica                          130.333333   \n",
              "WesternAsia                            118.111111   \n",
              "WesternEurope                          107.000000   \n",
              "\n",
              "                   International trade: Imports (million US$)  \n",
              "Region                                                         \n",
              "Caribbean                                         3057.312500  \n",
              "CentralAmerica                                   57031.500000  \n",
              "CentralAsia                                      12063.400000  \n",
              "EasternAfrica                                     4726.176471  \n",
              "EasternAsia                                     451995.000000  \n",
              "EasternEurope                                    85243.900000  \n",
              "Melanesia                                         2896.400000  \n",
              "Micronesia                                          99.000000  \n",
              "MiddleAfrica                                      4381.222222  \n",
              "NorthernAfrica                                   35034.400000  \n",
              "NorthernAmerica                                 663552.250000  \n",
              "NorthernEurope                                  113407.200000  \n",
              "Oceania                                         112914.500000  \n",
              "Polynesia                                          432.000000  \n",
              "South-easternAsia                                98324.636364  \n",
              "SouthAmerica                                     32885.666667  \n",
              "SouthernAfrica                                   18005.600000  \n",
              "SouthernAsia                                     58199.333333  \n",
              "SouthernEurope                                   76666.666667  \n",
              "WesternAfrica                                     4898.333333  \n",
              "WesternAsia                                      46025.555556  \n",
              "WesternEurope                                   407498.428571  "
            ],
            "text/html": [
              "\n",
              "  <div id=\"df-554819d6-84bf-4698-aa36-a1607fb42915\">\n",
              "    <div class=\"colab-df-container\">\n",
              "      <div>\n",
              "<style scoped>\n",
              "    .dataframe tbody tr th:only-of-type {\n",
              "        vertical-align: middle;\n",
              "    }\n",
              "\n",
              "    .dataframe tbody tr th {\n",
              "        vertical-align: top;\n",
              "    }\n",
              "\n",
              "    .dataframe thead th {\n",
              "        text-align: right;\n",
              "    }\n",
              "</style>\n",
              "<table border=\"1\" class=\"dataframe\">\n",
              "  <thead>\n",
              "    <tr style=\"text-align: right;\">\n",
              "      <th></th>\n",
              "      <th>Surface area (km2)</th>\n",
              "      <th>Population in thousands (2017)</th>\n",
              "      <th>GDP per capita (current US$)</th>\n",
              "      <th>Agricultural production index</th>\n",
              "      <th>International trade: Imports (million US$)</th>\n",
              "    </tr>\n",
              "    <tr>\n",
              "      <th>Region</th>\n",
              "      <th></th>\n",
              "      <th></th>\n",
              "      <th></th>\n",
              "      <th></th>\n",
              "      <th></th>\n",
              "    </tr>\n",
              "  </thead>\n",
              "  <tbody>\n",
              "    <tr>\n",
              "      <th>Caribbean</th>\n",
              "      <td>1.375231e+04</td>\n",
              "      <td>2431.187500</td>\n",
              "      <td>15135.562500</td>\n",
              "      <td>103.125000</td>\n",
              "      <td>3057.312500</td>\n",
              "    </tr>\n",
              "    <tr>\n",
              "      <th>CentralAmerica</th>\n",
              "      <td>3.108195e+05</td>\n",
              "      <td>22164.750000</td>\n",
              "      <td>6348.137500</td>\n",
              "      <td>122.750000</td>\n",
              "      <td>57031.500000</td>\n",
              "    </tr>\n",
              "    <tr>\n",
              "      <th>CentralAsia</th>\n",
              "      <td>8.009040e+05</td>\n",
              "      <td>14167.800000</td>\n",
              "      <td>4329.880000</td>\n",
              "      <td>130.000000</td>\n",
              "      <td>12063.400000</td>\n",
              "    </tr>\n",
              "    <tr>\n",
              "      <th>EasternAfrica</th>\n",
              "      <td>3.747603e+05</td>\n",
              "      <td>24019.411765</td>\n",
              "      <td>2088.852941</td>\n",
              "      <td>126.235294</td>\n",
              "      <td>4726.176471</td>\n",
              "    </tr>\n",
              "    <tr>\n",
              "      <th>EasternAsia</th>\n",
              "      <td>1.680572e+06</td>\n",
              "      <td>232076.857143</td>\n",
              "      <td>27967.614286</td>\n",
              "      <td>100.428571</td>\n",
              "      <td>451995.000000</td>\n",
              "    </tr>\n",
              "    <tr>\n",
              "      <th>EasternEurope</th>\n",
              "      <td>1.882619e+06</td>\n",
              "      <td>29245.500000</td>\n",
              "      <td>9292.490000</td>\n",
              "      <td>111.600000</td>\n",
              "      <td>85243.900000</td>\n",
              "    </tr>\n",
              "    <tr>\n",
              "      <th>Melanesia</th>\n",
              "      <td>1.081544e+05</td>\n",
              "      <td>2064.000000</td>\n",
              "      <td>9261.960000</td>\n",
              "      <td>103.000000</td>\n",
              "      <td>2896.400000</td>\n",
              "    </tr>\n",
              "    <tr>\n",
              "      <th>Micronesia</th>\n",
              "      <td>5.170000e+02</td>\n",
              "      <td>74.250000</td>\n",
              "      <td>5008.300000</td>\n",
              "      <td>93.500000</td>\n",
              "      <td>99.000000</td>\n",
              "    </tr>\n",
              "    <tr>\n",
              "      <th>MiddleAfrica</th>\n",
              "      <td>7.347640e+05</td>\n",
              "      <td>18166.111111</td>\n",
              "      <td>3928.833333</td>\n",
              "      <td>125.888889</td>\n",
              "      <td>4381.222222</td>\n",
              "    </tr>\n",
              "    <tr>\n",
              "      <th>NorthernAfrica</th>\n",
              "      <td>1.134020e+06</td>\n",
              "      <td>38503.600000</td>\n",
              "      <td>3934.960000</td>\n",
              "      <td>126.200000</td>\n",
              "      <td>35034.400000</td>\n",
              "    </tr>\n",
              "    <tr>\n",
              "      <th>NorthernAmerica</th>\n",
              "      <td>5.496082e+06</td>\n",
              "      <td>90300.250000</td>\n",
              "      <td>57659.000000</td>\n",
              "      <td>108.500000</td>\n",
              "      <td>663552.250000</td>\n",
              "    </tr>\n",
              "    <tr>\n",
              "      <th>NorthernEurope</th>\n",
              "      <td>1.796507e+05</td>\n",
              "      <td>10390.200000</td>\n",
              "      <td>42098.220000</td>\n",
              "      <td>112.700000</td>\n",
              "      <td>113407.200000</td>\n",
              "    </tr>\n",
              "    <tr>\n",
              "      <th>Oceania</th>\n",
              "      <td>3.980084e+06</td>\n",
              "      <td>14578.500000</td>\n",
              "      <td>44823.250000</td>\n",
              "      <td>113.500000</td>\n",
              "      <td>112914.500000</td>\n",
              "    </tr>\n",
              "    <tr>\n",
              "      <th>Polynesia</th>\n",
              "      <td>1.570200e+03</td>\n",
              "      <td>123.000000</td>\n",
              "      <td>8686.520000</td>\n",
              "      <td>108.000000</td>\n",
              "      <td>432.000000</td>\n",
              "    </tr>\n",
              "    <tr>\n",
              "      <th>South-easternAsia</th>\n",
              "      <td>4.091960e+05</td>\n",
              "      <td>58980.000000</td>\n",
              "      <td>10299.027273</td>\n",
              "      <td>138.727273</td>\n",
              "      <td>98324.636364</td>\n",
              "    </tr>\n",
              "    <tr>\n",
              "      <th>SouthAmerica</th>\n",
              "      <td>1.475521e+06</td>\n",
              "      <td>35342.416667</td>\n",
              "      <td>8499.775000</td>\n",
              "      <td>132.083333</td>\n",
              "      <td>32885.666667</td>\n",
              "    </tr>\n",
              "    <tr>\n",
              "      <th>SouthernAfrica</th>\n",
              "      <td>5.349742e+05</td>\n",
              "      <td>13028.600000</td>\n",
              "      <td>4191.900000</td>\n",
              "      <td>107.600000</td>\n",
              "      <td>18005.600000</td>\n",
              "    </tr>\n",
              "    <tr>\n",
              "      <th>SouthernAsia</th>\n",
              "      <td>7.515586e+05</td>\n",
              "      <td>207665.000000</td>\n",
              "      <td>2968.400000</td>\n",
              "      <td>119.111111</td>\n",
              "      <td>58199.333333</td>\n",
              "    </tr>\n",
              "    <tr>\n",
              "      <th>SouthernEurope</th>\n",
              "      <td>1.097802e+05</td>\n",
              "      <td>12653.666667</td>\n",
              "      <td>14462.741667</td>\n",
              "      <td>97.166667</td>\n",
              "      <td>76666.666667</td>\n",
              "    </tr>\n",
              "    <tr>\n",
              "      <th>WesternAfrica</th>\n",
              "      <td>3.881602e+05</td>\n",
              "      <td>23179.400000</td>\n",
              "      <td>1013.140000</td>\n",
              "      <td>130.333333</td>\n",
              "      <td>4898.333333</td>\n",
              "    </tr>\n",
              "    <tr>\n",
              "      <th>WesternAsia</th>\n",
              "      <td>2.713849e+05</td>\n",
              "      <td>14869.944444</td>\n",
              "      <td>17013.938889</td>\n",
              "      <td>118.111111</td>\n",
              "      <td>46025.555556</td>\n",
              "    </tr>\n",
              "    <tr>\n",
              "      <th>WesternEurope</th>\n",
              "      <td>1.583849e+05</td>\n",
              "      <td>27622.142857</td>\n",
              "      <td>55387.128571</td>\n",
              "      <td>107.000000</td>\n",
              "      <td>407498.428571</td>\n",
              "    </tr>\n",
              "  </tbody>\n",
              "</table>\n",
              "</div>\n",
              "      <button class=\"colab-df-convert\" onclick=\"convertToInteractive('df-554819d6-84bf-4698-aa36-a1607fb42915')\"\n",
              "              title=\"Convert this dataframe to an interactive table.\"\n",
              "              style=\"display:none;\">\n",
              "        \n",
              "  <svg xmlns=\"http://www.w3.org/2000/svg\" height=\"24px\"viewBox=\"0 0 24 24\"\n",
              "       width=\"24px\">\n",
              "    <path d=\"M0 0h24v24H0V0z\" fill=\"none\"/>\n",
              "    <path d=\"M18.56 5.44l.94 2.06.94-2.06 2.06-.94-2.06-.94-.94-2.06-.94 2.06-2.06.94zm-11 1L8.5 8.5l.94-2.06 2.06-.94-2.06-.94L8.5 2.5l-.94 2.06-2.06.94zm10 10l.94 2.06.94-2.06 2.06-.94-2.06-.94-.94-2.06-.94 2.06-2.06.94z\"/><path d=\"M17.41 7.96l-1.37-1.37c-.4-.4-.92-.59-1.43-.59-.52 0-1.04.2-1.43.59L10.3 9.45l-7.72 7.72c-.78.78-.78 2.05 0 2.83L4 21.41c.39.39.9.59 1.41.59.51 0 1.02-.2 1.41-.59l7.78-7.78 2.81-2.81c.8-.78.8-2.07 0-2.86zM5.41 20L4 18.59l7.72-7.72 1.47 1.35L5.41 20z\"/>\n",
              "  </svg>\n",
              "      </button>\n",
              "      \n",
              "  <style>\n",
              "    .colab-df-container {\n",
              "      display:flex;\n",
              "      flex-wrap:wrap;\n",
              "      gap: 12px;\n",
              "    }\n",
              "\n",
              "    .colab-df-convert {\n",
              "      background-color: #E8F0FE;\n",
              "      border: none;\n",
              "      border-radius: 50%;\n",
              "      cursor: pointer;\n",
              "      display: none;\n",
              "      fill: #1967D2;\n",
              "      height: 32px;\n",
              "      padding: 0 0 0 0;\n",
              "      width: 32px;\n",
              "    }\n",
              "\n",
              "    .colab-df-convert:hover {\n",
              "      background-color: #E2EBFA;\n",
              "      box-shadow: 0px 1px 2px rgba(60, 64, 67, 0.3), 0px 1px 3px 1px rgba(60, 64, 67, 0.15);\n",
              "      fill: #174EA6;\n",
              "    }\n",
              "\n",
              "    [theme=dark] .colab-df-convert {\n",
              "      background-color: #3B4455;\n",
              "      fill: #D2E3FC;\n",
              "    }\n",
              "\n",
              "    [theme=dark] .colab-df-convert:hover {\n",
              "      background-color: #434B5C;\n",
              "      box-shadow: 0px 1px 3px 1px rgba(0, 0, 0, 0.15);\n",
              "      filter: drop-shadow(0px 1px 2px rgba(0, 0, 0, 0.3));\n",
              "      fill: #FFFFFF;\n",
              "    }\n",
              "  </style>\n",
              "\n",
              "      <script>\n",
              "        const buttonEl =\n",
              "          document.querySelector('#df-554819d6-84bf-4698-aa36-a1607fb42915 button.colab-df-convert');\n",
              "        buttonEl.style.display =\n",
              "          google.colab.kernel.accessAllowed ? 'block' : 'none';\n",
              "\n",
              "        async function convertToInteractive(key) {\n",
              "          const element = document.querySelector('#df-554819d6-84bf-4698-aa36-a1607fb42915');\n",
              "          const dataTable =\n",
              "            await google.colab.kernel.invokeFunction('convertToInteractive',\n",
              "                                                     [key], {});\n",
              "          if (!dataTable) return;\n",
              "\n",
              "          const docLinkHtml = 'Like what you see? Visit the ' +\n",
              "            '<a target=\"_blank\" href=https://colab.research.google.com/notebooks/data_table.ipynb>data table notebook</a>'\n",
              "            + ' to learn more about interactive tables.';\n",
              "          element.innerHTML = '';\n",
              "          dataTable['output_type'] = 'display_data';\n",
              "          await google.colab.output.renderOutput(dataTable, element);\n",
              "          const docLink = document.createElement('div');\n",
              "          docLink.innerHTML = docLinkHtml;\n",
              "          element.appendChild(docLink);\n",
              "        }\n",
              "      </script>\n",
              "    </div>\n",
              "  </div>\n",
              "  "
            ]
          },
          "metadata": {},
          "execution_count": 326
        }
      ]
    },
    {
      "cell_type": "code",
      "source": [
        "df3.sort_values('GDP per capita (current US$)',ascending=False).head(1)"
      ],
      "metadata": {
        "colab": {
          "base_uri": "https://localhost:8080/",
          "height": 173
        },
        "id": "393DWzDeoBGA",
        "outputId": "dab0b0df-a9e5-4bab-cc5e-dd9b2b4a1ae7"
      },
      "execution_count": 327,
      "outputs": [
        {
          "output_type": "execute_result",
          "data": {
            "text/plain": [
              "                 Surface area (km2)  Population in thousands (2017)  \\\n",
              "Region                                                                \n",
              "NorthernAmerica           5496081.5                        90300.25   \n",
              "\n",
              "                 GDP per capita (current US$)  Agricultural production index   \\\n",
              "Region                                                                          \n",
              "NorthernAmerica                       57659.0                           108.5   \n",
              "\n",
              "                 International trade: Imports (million US$)  \n",
              "Region                                                       \n",
              "NorthernAmerica                                   663552.25  "
            ],
            "text/html": [
              "\n",
              "  <div id=\"df-bf3bfaac-acd9-416c-ac55-48ecc93ec267\">\n",
              "    <div class=\"colab-df-container\">\n",
              "      <div>\n",
              "<style scoped>\n",
              "    .dataframe tbody tr th:only-of-type {\n",
              "        vertical-align: middle;\n",
              "    }\n",
              "\n",
              "    .dataframe tbody tr th {\n",
              "        vertical-align: top;\n",
              "    }\n",
              "\n",
              "    .dataframe thead th {\n",
              "        text-align: right;\n",
              "    }\n",
              "</style>\n",
              "<table border=\"1\" class=\"dataframe\">\n",
              "  <thead>\n",
              "    <tr style=\"text-align: right;\">\n",
              "      <th></th>\n",
              "      <th>Surface area (km2)</th>\n",
              "      <th>Population in thousands (2017)</th>\n",
              "      <th>GDP per capita (current US$)</th>\n",
              "      <th>Agricultural production index</th>\n",
              "      <th>International trade: Imports (million US$)</th>\n",
              "    </tr>\n",
              "    <tr>\n",
              "      <th>Region</th>\n",
              "      <th></th>\n",
              "      <th></th>\n",
              "      <th></th>\n",
              "      <th></th>\n",
              "      <th></th>\n",
              "    </tr>\n",
              "  </thead>\n",
              "  <tbody>\n",
              "    <tr>\n",
              "      <th>NorthernAmerica</th>\n",
              "      <td>5496081.5</td>\n",
              "      <td>90300.25</td>\n",
              "      <td>57659.0</td>\n",
              "      <td>108.5</td>\n",
              "      <td>663552.25</td>\n",
              "    </tr>\n",
              "  </tbody>\n",
              "</table>\n",
              "</div>\n",
              "      <button class=\"colab-df-convert\" onclick=\"convertToInteractive('df-bf3bfaac-acd9-416c-ac55-48ecc93ec267')\"\n",
              "              title=\"Convert this dataframe to an interactive table.\"\n",
              "              style=\"display:none;\">\n",
              "        \n",
              "  <svg xmlns=\"http://www.w3.org/2000/svg\" height=\"24px\"viewBox=\"0 0 24 24\"\n",
              "       width=\"24px\">\n",
              "    <path d=\"M0 0h24v24H0V0z\" fill=\"none\"/>\n",
              "    <path d=\"M18.56 5.44l.94 2.06.94-2.06 2.06-.94-2.06-.94-.94-2.06-.94 2.06-2.06.94zm-11 1L8.5 8.5l.94-2.06 2.06-.94-2.06-.94L8.5 2.5l-.94 2.06-2.06.94zm10 10l.94 2.06.94-2.06 2.06-.94-2.06-.94-.94-2.06-.94 2.06-2.06.94z\"/><path d=\"M17.41 7.96l-1.37-1.37c-.4-.4-.92-.59-1.43-.59-.52 0-1.04.2-1.43.59L10.3 9.45l-7.72 7.72c-.78.78-.78 2.05 0 2.83L4 21.41c.39.39.9.59 1.41.59.51 0 1.02-.2 1.41-.59l7.78-7.78 2.81-2.81c.8-.78.8-2.07 0-2.86zM5.41 20L4 18.59l7.72-7.72 1.47 1.35L5.41 20z\"/>\n",
              "  </svg>\n",
              "      </button>\n",
              "      \n",
              "  <style>\n",
              "    .colab-df-container {\n",
              "      display:flex;\n",
              "      flex-wrap:wrap;\n",
              "      gap: 12px;\n",
              "    }\n",
              "\n",
              "    .colab-df-convert {\n",
              "      background-color: #E8F0FE;\n",
              "      border: none;\n",
              "      border-radius: 50%;\n",
              "      cursor: pointer;\n",
              "      display: none;\n",
              "      fill: #1967D2;\n",
              "      height: 32px;\n",
              "      padding: 0 0 0 0;\n",
              "      width: 32px;\n",
              "    }\n",
              "\n",
              "    .colab-df-convert:hover {\n",
              "      background-color: #E2EBFA;\n",
              "      box-shadow: 0px 1px 2px rgba(60, 64, 67, 0.3), 0px 1px 3px 1px rgba(60, 64, 67, 0.15);\n",
              "      fill: #174EA6;\n",
              "    }\n",
              "\n",
              "    [theme=dark] .colab-df-convert {\n",
              "      background-color: #3B4455;\n",
              "      fill: #D2E3FC;\n",
              "    }\n",
              "\n",
              "    [theme=dark] .colab-df-convert:hover {\n",
              "      background-color: #434B5C;\n",
              "      box-shadow: 0px 1px 3px 1px rgba(0, 0, 0, 0.15);\n",
              "      filter: drop-shadow(0px 1px 2px rgba(0, 0, 0, 0.3));\n",
              "      fill: #FFFFFF;\n",
              "    }\n",
              "  </style>\n",
              "\n",
              "      <script>\n",
              "        const buttonEl =\n",
              "          document.querySelector('#df-bf3bfaac-acd9-416c-ac55-48ecc93ec267 button.colab-df-convert');\n",
              "        buttonEl.style.display =\n",
              "          google.colab.kernel.accessAllowed ? 'block' : 'none';\n",
              "\n",
              "        async function convertToInteractive(key) {\n",
              "          const element = document.querySelector('#df-bf3bfaac-acd9-416c-ac55-48ecc93ec267');\n",
              "          const dataTable =\n",
              "            await google.colab.kernel.invokeFunction('convertToInteractive',\n",
              "                                                     [key], {});\n",
              "          if (!dataTable) return;\n",
              "\n",
              "          const docLinkHtml = 'Like what you see? Visit the ' +\n",
              "            '<a target=\"_blank\" href=https://colab.research.google.com/notebooks/data_table.ipynb>data table notebook</a>'\n",
              "            + ' to learn more about interactive tables.';\n",
              "          element.innerHTML = '';\n",
              "          dataTable['output_type'] = 'display_data';\n",
              "          await google.colab.output.renderOutput(dataTable, element);\n",
              "          const docLink = document.createElement('div');\n",
              "          docLink.innerHTML = docLinkHtml;\n",
              "          element.appendChild(docLink);\n",
              "        }\n",
              "      </script>\n",
              "    </div>\n",
              "  </div>\n",
              "  "
            ]
          },
          "metadata": {},
          "execution_count": 327
        }
      ]
    },
    {
      "cell_type": "code",
      "source": [
        "# Northern America has the highest GDP per capita"
      ],
      "metadata": {
        "id": "rR8JGs97pR2R"
      },
      "execution_count": 328,
      "outputs": []
    },
    {
      "cell_type": "code",
      "source": [
        "df3.sort_values('International trade: Imports (million US$)',ascending=False).head(1)"
      ],
      "metadata": {
        "colab": {
          "base_uri": "https://localhost:8080/",
          "height": 173
        },
        "id": "_6W6Qj4zpfmp",
        "outputId": "9357f489-4d1b-4b97-c45c-9a894989d38d"
      },
      "execution_count": 329,
      "outputs": [
        {
          "output_type": "execute_result",
          "data": {
            "text/plain": [
              "                 Surface area (km2)  Population in thousands (2017)  \\\n",
              "Region                                                                \n",
              "NorthernAmerica           5496081.5                        90300.25   \n",
              "\n",
              "                 GDP per capita (current US$)  Agricultural production index   \\\n",
              "Region                                                                          \n",
              "NorthernAmerica                       57659.0                           108.5   \n",
              "\n",
              "                 International trade: Imports (million US$)  \n",
              "Region                                                       \n",
              "NorthernAmerica                                   663552.25  "
            ],
            "text/html": [
              "\n",
              "  <div id=\"df-d07466fe-d6e4-4eaa-906f-10f6c1b57175\">\n",
              "    <div class=\"colab-df-container\">\n",
              "      <div>\n",
              "<style scoped>\n",
              "    .dataframe tbody tr th:only-of-type {\n",
              "        vertical-align: middle;\n",
              "    }\n",
              "\n",
              "    .dataframe tbody tr th {\n",
              "        vertical-align: top;\n",
              "    }\n",
              "\n",
              "    .dataframe thead th {\n",
              "        text-align: right;\n",
              "    }\n",
              "</style>\n",
              "<table border=\"1\" class=\"dataframe\">\n",
              "  <thead>\n",
              "    <tr style=\"text-align: right;\">\n",
              "      <th></th>\n",
              "      <th>Surface area (km2)</th>\n",
              "      <th>Population in thousands (2017)</th>\n",
              "      <th>GDP per capita (current US$)</th>\n",
              "      <th>Agricultural production index</th>\n",
              "      <th>International trade: Imports (million US$)</th>\n",
              "    </tr>\n",
              "    <tr>\n",
              "      <th>Region</th>\n",
              "      <th></th>\n",
              "      <th></th>\n",
              "      <th></th>\n",
              "      <th></th>\n",
              "      <th></th>\n",
              "    </tr>\n",
              "  </thead>\n",
              "  <tbody>\n",
              "    <tr>\n",
              "      <th>NorthernAmerica</th>\n",
              "      <td>5496081.5</td>\n",
              "      <td>90300.25</td>\n",
              "      <td>57659.0</td>\n",
              "      <td>108.5</td>\n",
              "      <td>663552.25</td>\n",
              "    </tr>\n",
              "  </tbody>\n",
              "</table>\n",
              "</div>\n",
              "      <button class=\"colab-df-convert\" onclick=\"convertToInteractive('df-d07466fe-d6e4-4eaa-906f-10f6c1b57175')\"\n",
              "              title=\"Convert this dataframe to an interactive table.\"\n",
              "              style=\"display:none;\">\n",
              "        \n",
              "  <svg xmlns=\"http://www.w3.org/2000/svg\" height=\"24px\"viewBox=\"0 0 24 24\"\n",
              "       width=\"24px\">\n",
              "    <path d=\"M0 0h24v24H0V0z\" fill=\"none\"/>\n",
              "    <path d=\"M18.56 5.44l.94 2.06.94-2.06 2.06-.94-2.06-.94-.94-2.06-.94 2.06-2.06.94zm-11 1L8.5 8.5l.94-2.06 2.06-.94-2.06-.94L8.5 2.5l-.94 2.06-2.06.94zm10 10l.94 2.06.94-2.06 2.06-.94-2.06-.94-.94-2.06-.94 2.06-2.06.94z\"/><path d=\"M17.41 7.96l-1.37-1.37c-.4-.4-.92-.59-1.43-.59-.52 0-1.04.2-1.43.59L10.3 9.45l-7.72 7.72c-.78.78-.78 2.05 0 2.83L4 21.41c.39.39.9.59 1.41.59.51 0 1.02-.2 1.41-.59l7.78-7.78 2.81-2.81c.8-.78.8-2.07 0-2.86zM5.41 20L4 18.59l7.72-7.72 1.47 1.35L5.41 20z\"/>\n",
              "  </svg>\n",
              "      </button>\n",
              "      \n",
              "  <style>\n",
              "    .colab-df-container {\n",
              "      display:flex;\n",
              "      flex-wrap:wrap;\n",
              "      gap: 12px;\n",
              "    }\n",
              "\n",
              "    .colab-df-convert {\n",
              "      background-color: #E8F0FE;\n",
              "      border: none;\n",
              "      border-radius: 50%;\n",
              "      cursor: pointer;\n",
              "      display: none;\n",
              "      fill: #1967D2;\n",
              "      height: 32px;\n",
              "      padding: 0 0 0 0;\n",
              "      width: 32px;\n",
              "    }\n",
              "\n",
              "    .colab-df-convert:hover {\n",
              "      background-color: #E2EBFA;\n",
              "      box-shadow: 0px 1px 2px rgba(60, 64, 67, 0.3), 0px 1px 3px 1px rgba(60, 64, 67, 0.15);\n",
              "      fill: #174EA6;\n",
              "    }\n",
              "\n",
              "    [theme=dark] .colab-df-convert {\n",
              "      background-color: #3B4455;\n",
              "      fill: #D2E3FC;\n",
              "    }\n",
              "\n",
              "    [theme=dark] .colab-df-convert:hover {\n",
              "      background-color: #434B5C;\n",
              "      box-shadow: 0px 1px 3px 1px rgba(0, 0, 0, 0.15);\n",
              "      filter: drop-shadow(0px 1px 2px rgba(0, 0, 0, 0.3));\n",
              "      fill: #FFFFFF;\n",
              "    }\n",
              "  </style>\n",
              "\n",
              "      <script>\n",
              "        const buttonEl =\n",
              "          document.querySelector('#df-d07466fe-d6e4-4eaa-906f-10f6c1b57175 button.colab-df-convert');\n",
              "        buttonEl.style.display =\n",
              "          google.colab.kernel.accessAllowed ? 'block' : 'none';\n",
              "\n",
              "        async function convertToInteractive(key) {\n",
              "          const element = document.querySelector('#df-d07466fe-d6e4-4eaa-906f-10f6c1b57175');\n",
              "          const dataTable =\n",
              "            await google.colab.kernel.invokeFunction('convertToInteractive',\n",
              "                                                     [key], {});\n",
              "          if (!dataTable) return;\n",
              "\n",
              "          const docLinkHtml = 'Like what you see? Visit the ' +\n",
              "            '<a target=\"_blank\" href=https://colab.research.google.com/notebooks/data_table.ipynb>data table notebook</a>'\n",
              "            + ' to learn more about interactive tables.';\n",
              "          element.innerHTML = '';\n",
              "          dataTable['output_type'] = 'display_data';\n",
              "          await google.colab.output.renderOutput(dataTable, element);\n",
              "          const docLink = document.createElement('div');\n",
              "          docLink.innerHTML = docLinkHtml;\n",
              "          element.appendChild(docLink);\n",
              "        }\n",
              "      </script>\n",
              "    </div>\n",
              "  </div>\n",
              "  "
            ]
          },
          "metadata": {},
          "execution_count": 329
        }
      ]
    },
    {
      "cell_type": "code",
      "source": [
        "# Northern America also has the highest international trade - imports"
      ],
      "metadata": {
        "id": "TCg57CqapoOf"
      },
      "execution_count": 330,
      "outputs": []
    },
    {
      "cell_type": "markdown",
      "source": [
        "## 5. Finding out which region is more consistent with respect to GDP per capita (current US$)"
      ],
      "metadata": {
        "id": "X574NcYoqEA2"
      }
    },
    {
      "cell_type": "code",
      "source": [
        "plt.figure(figsize=(10,8))\n",
        "sns.boxplot(x='Region',y='GDP per capita (current US$)',data=df)\n",
        "plt.xticks(rotation=90)"
      ],
      "metadata": {
        "colab": {
          "base_uri": "https://localhost:8080/",
          "height": 628
        },
        "id": "yl8-l2J5shUy",
        "outputId": "a21bd7be-ce68-4c7f-f2d0-988f5b6ead78"
      },
      "execution_count": 331,
      "outputs": [
        {
          "output_type": "execute_result",
          "data": {
            "text/plain": [
              "(array([ 0,  1,  2,  3,  4,  5,  6,  7,  8,  9, 10, 11, 12, 13, 14, 15, 16,\n",
              "        17, 18, 19, 20, 21]), <a list of 22 Text major ticklabel objects>)"
            ]
          },
          "metadata": {},
          "execution_count": 331
        },
        {
          "output_type": "display_data",
          "data": {
            "text/plain": [
              "<Figure size 720x576 with 1 Axes>"
            ],
            "image/png": "[encoded data removed]"
          },
          "metadata": {
            "needs_background": "light"
          }
        }
      ]
    },
    {
      "cell_type": "code",
      "source": [
        "# To check for consistency, the median should be fairly located at the centre and the whiskers should be even and small on both sides of the box\n",
        "# which signifies lesser variation between values"
      ],
      "metadata": {
        "id": "0Y8w0Lb8wwg-"
      },
      "execution_count": 332,
      "outputs": []
    },
    {
      "cell_type": "code",
      "source": [
        "# Based on the above mentioned criteria, Oceana and Eastern Europe seem to have fairly consistent GDP per capita"
      ],
      "metadata": {
        "id": "JtHv0zgM1EzL"
      },
      "execution_count": 333,
      "outputs": []
    },
    {
      "cell_type": "code",
      "source": [
        ""
      ],
      "metadata": {
        "id": "ZpevqpHM1Sqo"
      },
      "execution_count": 333,
      "outputs": []
    }
  ]
}